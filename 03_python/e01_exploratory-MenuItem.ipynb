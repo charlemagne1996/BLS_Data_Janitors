{
 "cells": [
  {
   "cell_type": "code",
   "execution_count": 3,
   "metadata": {},
   "outputs": [],
   "source": [
    "import pandas as pd"
   ]
  },
  {
   "cell_type": "code",
   "execution_count": 4,
   "metadata": {},
   "outputs": [],
   "source": [
    "menuitem = pd.read_csv(\"../raw_data/MenuItem.csv.gz\", compression='gzip')"
   ]
  },
  {
   "cell_type": "code",
   "execution_count": 6,
   "metadata": {},
   "outputs": [],
   "source": [
    "def freq(df, col):\n",
    "    x = df.pivot_table(index=col, values='created_at', aggfunc=[len])\n",
    "    print(x.sort_values(by=('len', 'created_at'), ascending = False))"
   ]
  },
  {
   "cell_type": "code",
   "execution_count": 7,
   "metadata": {},
   "outputs": [
    {
     "data": {
      "text/html": [
       "<div>\n",
       "<style scoped>\n",
       "    .dataframe tbody tr th:only-of-type {\n",
       "        vertical-align: middle;\n",
       "    }\n",
       "\n",
       "    .dataframe tbody tr th {\n",
       "        vertical-align: top;\n",
       "    }\n",
       "\n",
       "    .dataframe thead th {\n",
       "        text-align: right;\n",
       "    }\n",
       "</style>\n",
       "<table border=\"1\" class=\"dataframe\">\n",
       "  <thead>\n",
       "    <tr style=\"text-align: right;\">\n",
       "      <th></th>\n",
       "      <th>id</th>\n",
       "      <th>menu_page_id</th>\n",
       "      <th>price</th>\n",
       "      <th>high_price</th>\n",
       "      <th>dish_id</th>\n",
       "      <th>xpos</th>\n",
       "      <th>ypos</th>\n",
       "    </tr>\n",
       "  </thead>\n",
       "  <tbody>\n",
       "    <tr>\n",
       "      <td>count</td>\n",
       "      <td>1.332726e+06</td>\n",
       "      <td>1.332726e+06</td>\n",
       "      <td>886810.000000</td>\n",
       "      <td>91905.000000</td>\n",
       "      <td>1.332485e+06</td>\n",
       "      <td>1.332726e+06</td>\n",
       "      <td>1.332726e+06</td>\n",
       "    </tr>\n",
       "    <tr>\n",
       "      <td>mean</td>\n",
       "      <td>6.978984e+05</td>\n",
       "      <td>4.759487e+04</td>\n",
       "      <td>12.838627</td>\n",
       "      <td>8.106321</td>\n",
       "      <td>1.580110e+05</td>\n",
       "      <td>3.890132e-01</td>\n",
       "      <td>5.497062e-01</td>\n",
       "    </tr>\n",
       "    <tr>\n",
       "      <td>std</td>\n",
       "      <td>3.999807e+05</td>\n",
       "      <td>2.203921e+04</td>\n",
       "      <td>499.547387</td>\n",
       "      <td>90.095222</td>\n",
       "      <td>1.677620e+05</td>\n",
       "      <td>2.208378e-01</td>\n",
       "      <td>2.239532e-01</td>\n",
       "    </tr>\n",
       "    <tr>\n",
       "      <td>min</td>\n",
       "      <td>1.000000e+00</td>\n",
       "      <td>1.300000e+02</td>\n",
       "      <td>0.000000</td>\n",
       "      <td>0.000000</td>\n",
       "      <td>1.000000e+00</td>\n",
       "      <td>0.000000e+00</td>\n",
       "      <td>0.000000e+00</td>\n",
       "    </tr>\n",
       "    <tr>\n",
       "      <td>25%</td>\n",
       "      <td>3.502512e+05</td>\n",
       "      <td>3.204900e+04</td>\n",
       "      <td>0.250000</td>\n",
       "      <td>0.500000</td>\n",
       "      <td>5.089000e+03</td>\n",
       "      <td>1.842860e-01</td>\n",
       "      <td>3.669165e-01</td>\n",
       "    </tr>\n",
       "    <tr>\n",
       "      <td>50%</td>\n",
       "      <td>7.024105e+05</td>\n",
       "      <td>5.337100e+04</td>\n",
       "      <td>0.400000</td>\n",
       "      <td>1.250000</td>\n",
       "      <td>8.070000e+04</td>\n",
       "      <td>3.771430e-01</td>\n",
       "      <td>5.672940e-01</td>\n",
       "    </tr>\n",
       "    <tr>\n",
       "      <td>75%</td>\n",
       "      <td>1.045549e+06</td>\n",
       "      <td>6.682300e+04</td>\n",
       "      <td>1.000000</td>\n",
       "      <td>3.000000</td>\n",
       "      <td>3.325240e+05</td>\n",
       "      <td>5.653330e-01</td>\n",
       "      <td>7.385308e-01</td>\n",
       "    </tr>\n",
       "    <tr>\n",
       "      <td>max</td>\n",
       "      <td>1.385906e+06</td>\n",
       "      <td>7.742500e+04</td>\n",
       "      <td>180000.000000</td>\n",
       "      <td>7800.000000</td>\n",
       "      <td>5.156770e+05</td>\n",
       "      <td>9.853330e-01</td>\n",
       "      <td>9.982300e-01</td>\n",
       "    </tr>\n",
       "  </tbody>\n",
       "</table>\n",
       "</div>"
      ],
      "text/plain": [
       "                 id  menu_page_id          price    high_price       dish_id  \\\n",
       "count  1.332726e+06  1.332726e+06  886810.000000  91905.000000  1.332485e+06   \n",
       "mean   6.978984e+05  4.759487e+04      12.838627      8.106321  1.580110e+05   \n",
       "std    3.999807e+05  2.203921e+04     499.547387     90.095222  1.677620e+05   \n",
       "min    1.000000e+00  1.300000e+02       0.000000      0.000000  1.000000e+00   \n",
       "25%    3.502512e+05  3.204900e+04       0.250000      0.500000  5.089000e+03   \n",
       "50%    7.024105e+05  5.337100e+04       0.400000      1.250000  8.070000e+04   \n",
       "75%    1.045549e+06  6.682300e+04       1.000000      3.000000  3.325240e+05   \n",
       "max    1.385906e+06  7.742500e+04  180000.000000   7800.000000  5.156770e+05   \n",
       "\n",
       "               xpos          ypos  \n",
       "count  1.332726e+06  1.332726e+06  \n",
       "mean   3.890132e-01  5.497062e-01  \n",
       "std    2.208378e-01  2.239532e-01  \n",
       "min    0.000000e+00  0.000000e+00  \n",
       "25%    1.842860e-01  3.669165e-01  \n",
       "50%    3.771430e-01  5.672940e-01  \n",
       "75%    5.653330e-01  7.385308e-01  \n",
       "max    9.853330e-01  9.982300e-01  "
      ]
     },
     "execution_count": 7,
     "metadata": {},
     "output_type": "execute_result"
    }
   ],
   "source": [
    "menuitem.describe()"
   ]
  },
  {
   "cell_type": "code",
   "execution_count": 5,
   "metadata": {},
   "outputs": [
    {
     "data": {
      "text/html": [
       "<div>\n",
       "<style scoped>\n",
       "    .dataframe tbody tr th:only-of-type {\n",
       "        vertical-align: middle;\n",
       "    }\n",
       "\n",
       "    .dataframe tbody tr th {\n",
       "        vertical-align: top;\n",
       "    }\n",
       "\n",
       "    .dataframe thead th {\n",
       "        text-align: right;\n",
       "    }\n",
       "</style>\n",
       "<table border=\"1\" class=\"dataframe\">\n",
       "  <thead>\n",
       "    <tr style=\"text-align: right;\">\n",
       "      <th></th>\n",
       "      <th>id</th>\n",
       "      <th>menu_page_id</th>\n",
       "      <th>price</th>\n",
       "      <th>high_price</th>\n",
       "      <th>dish_id</th>\n",
       "      <th>created_at</th>\n",
       "      <th>updated_at</th>\n",
       "      <th>xpos</th>\n",
       "      <th>ypos</th>\n",
       "    </tr>\n",
       "  </thead>\n",
       "  <tbody>\n",
       "    <tr>\n",
       "      <td>0</td>\n",
       "      <td>1</td>\n",
       "      <td>1389</td>\n",
       "      <td>0.4</td>\n",
       "      <td>NaN</td>\n",
       "      <td>1.0</td>\n",
       "      <td>2011-03-28 15:00:44 UTC</td>\n",
       "      <td>2011-04-19 04:33:15 UTC</td>\n",
       "      <td>0.111429</td>\n",
       "      <td>0.254735</td>\n",
       "    </tr>\n",
       "    <tr>\n",
       "      <td>1</td>\n",
       "      <td>2</td>\n",
       "      <td>1389</td>\n",
       "      <td>0.6</td>\n",
       "      <td>NaN</td>\n",
       "      <td>2.0</td>\n",
       "      <td>2011-03-28 15:01:13 UTC</td>\n",
       "      <td>2011-04-19 15:00:54 UTC</td>\n",
       "      <td>0.438571</td>\n",
       "      <td>0.254735</td>\n",
       "    </tr>\n",
       "    <tr>\n",
       "      <td>2</td>\n",
       "      <td>3</td>\n",
       "      <td>1389</td>\n",
       "      <td>0.4</td>\n",
       "      <td>NaN</td>\n",
       "      <td>3.0</td>\n",
       "      <td>2011-03-28 15:01:40 UTC</td>\n",
       "      <td>2011-04-19 19:10:05 UTC</td>\n",
       "      <td>0.140000</td>\n",
       "      <td>0.261922</td>\n",
       "    </tr>\n",
       "    <tr>\n",
       "      <td>3</td>\n",
       "      <td>4</td>\n",
       "      <td>1389</td>\n",
       "      <td>0.5</td>\n",
       "      <td>NaN</td>\n",
       "      <td>4.0</td>\n",
       "      <td>2011-03-28 15:01:51 UTC</td>\n",
       "      <td>2011-04-19 19:07:01 UTC</td>\n",
       "      <td>0.377143</td>\n",
       "      <td>0.262720</td>\n",
       "    </tr>\n",
       "    <tr>\n",
       "      <td>4</td>\n",
       "      <td>5</td>\n",
       "      <td>3079</td>\n",
       "      <td>0.5</td>\n",
       "      <td>1.0</td>\n",
       "      <td>5.0</td>\n",
       "      <td>2011-03-28 15:21:26 UTC</td>\n",
       "      <td>2011-04-13 15:25:27 UTC</td>\n",
       "      <td>0.105714</td>\n",
       "      <td>0.313178</td>\n",
       "    </tr>\n",
       "  </tbody>\n",
       "</table>\n",
       "</div>"
      ],
      "text/plain": [
       "   id  menu_page_id  price  high_price  dish_id               created_at  \\\n",
       "0   1          1389    0.4         NaN      1.0  2011-03-28 15:00:44 UTC   \n",
       "1   2          1389    0.6         NaN      2.0  2011-03-28 15:01:13 UTC   \n",
       "2   3          1389    0.4         NaN      3.0  2011-03-28 15:01:40 UTC   \n",
       "3   4          1389    0.5         NaN      4.0  2011-03-28 15:01:51 UTC   \n",
       "4   5          3079    0.5         1.0      5.0  2011-03-28 15:21:26 UTC   \n",
       "\n",
       "                updated_at      xpos      ypos  \n",
       "0  2011-04-19 04:33:15 UTC  0.111429  0.254735  \n",
       "1  2011-04-19 15:00:54 UTC  0.438571  0.254735  \n",
       "2  2011-04-19 19:10:05 UTC  0.140000  0.261922  \n",
       "3  2011-04-19 19:07:01 UTC  0.377143  0.262720  \n",
       "4  2011-04-13 15:25:27 UTC  0.105714  0.313178  "
      ]
     },
     "execution_count": 5,
     "metadata": {},
     "output_type": "execute_result"
    }
   ],
   "source": [
    "menuitem.head()"
   ]
  },
  {
   "cell_type": "code",
   "execution_count": 8,
   "metadata": {},
   "outputs": [
    {
     "name": "stdout",
     "output_type": "stream",
     "text": [
      "               len\n",
      "        created_at\n",
      "id                \n",
      "1                1\n",
      "931884           1\n",
      "931903           1\n",
      "931902           1\n",
      "931901           1\n",
      "...            ...\n",
      "465641           1\n",
      "465640           1\n",
      "465639           1\n",
      "465638           1\n",
      "1385906          1\n",
      "\n",
      "[1332726 rows x 1 columns]\n"
     ]
    }
   ],
   "source": [
    "freq(menuitem,'id')"
   ]
  },
  {
   "cell_type": "code",
   "execution_count": 9,
   "metadata": {},
   "outputs": [
    {
     "name": "stdout",
     "output_type": "stream",
     "text": [
      "                    len\n",
      "             created_at\n",
      "menu_page_id           \n",
      "46514               425\n",
      "69103               400\n",
      "67104               397\n",
      "57170               383\n",
      "67190               378\n",
      "...                 ...\n",
      "17861                 1\n",
      "17862                 1\n",
      "17863                 1\n",
      "17864                 1\n",
      "71060                 1\n",
      "\n",
      "[26590 rows x 1 columns]\n"
     ]
    }
   ],
   "source": [
    "freq(menuitem,'menu_page_id')"
   ]
  },
  {
   "cell_type": "code",
   "execution_count": 10,
   "metadata": {},
   "outputs": [
    {
     "name": "stdout",
     "output_type": "stream",
     "text": [
      "              len\n",
      "       created_at\n",
      "price            \n",
      "0.25        90502\n",
      "0.30        65335\n",
      "0.15        64304\n",
      "0.20        62412\n",
      "0.40        58449\n",
      "...           ...\n",
      "13.96           1\n",
      "224.00          1\n",
      "221.00          1\n",
      "14.65           1\n",
      "18.30           1\n",
      "\n",
      "[1336 rows x 1 columns]\n"
     ]
    }
   ],
   "source": [
    "freq(menuitem,'price')"
   ]
  },
  {
   "cell_type": "code",
   "execution_count": 11,
   "metadata": {},
   "outputs": [
    {
     "name": "stdout",
     "output_type": "stream",
     "text": [
      "                  len\n",
      "           created_at\n",
      "high_price           \n",
      "0.40             6734\n",
      "1.50             5327\n",
      "1.00             5053\n",
      "2.00             4888\n",
      "0.50             4758\n",
      "...               ...\n",
      "76.79               1\n",
      "10.90               1\n",
      "79.00               1\n",
      "10.85               1\n",
      "15.70               1\n",
      "\n",
      "[671 rows x 1 columns]\n"
     ]
    }
   ],
   "source": [
    "freq(menuitem, 'high_price')"
   ]
  },
  {
   "cell_type": "code",
   "execution_count": 12,
   "metadata": {},
   "outputs": [
    {
     "name": "stdout",
     "output_type": "stream",
     "text": [
      "                len\n",
      "         created_at\n",
      "dish_id            \n",
      "96.0           8484\n",
      "97.0           4769\n",
      "15.0           4690\n",
      "1177.0         4555\n",
      "7.0            3346\n",
      "...             ...\n",
      "218354.0          1\n",
      "218353.0          1\n",
      "218352.0          1\n",
      "218351.0          1\n",
      "515677.0          1\n",
      "\n",
      "[414138 rows x 1 columns]\n"
     ]
    }
   ],
   "source": [
    "freq(menuitem, 'dish_id')"
   ]
  },
  {
   "cell_type": "code",
   "execution_count": null,
   "metadata": {},
   "outputs": [],
   "source": []
  }
 ],
 "metadata": {
  "kernelspec": {
   "display_name": "Python 3",
   "language": "python",
   "name": "python3"
  },
  "language_info": {
   "codemirror_mode": {
    "name": "ipython",
    "version": 3
   },
   "file_extension": ".py",
   "mimetype": "text/x-python",
   "name": "python",
   "nbconvert_exporter": "python",
   "pygments_lexer": "ipython3",
   "version": "3.7.4"
  }
 },
 "nbformat": 4,
 "nbformat_minor": 2
}
