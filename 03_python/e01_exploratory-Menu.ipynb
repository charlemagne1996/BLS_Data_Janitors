{
 "cells": [
  {
   "cell_type": "code",
   "execution_count": 1,
   "metadata": {},
   "outputs": [],
   "source": [
    "import pandas as pd"
   ]
  },
  {
   "cell_type": "code",
   "execution_count": 11,
   "metadata": {},
   "outputs": [],
   "source": [
    "menu = pd.read_csv(\"../raw_data/Menu.csv.gz\", compression='gzip')"
   ]
  },
  {
   "cell_type": "code",
   "execution_count": 60,
   "metadata": {},
   "outputs": [],
   "source": [
    "def freq(df, col):\n",
    "    x = df.pivot_table(index=col, values='page_count', aggfunc=[len])\n",
    "    print(x.sort_values(by=('len', 'page_count'), ascending = False))"
   ]
  },
  {
   "cell_type": "code",
   "execution_count": 57,
   "metadata": {},
   "outputs": [
    {
     "data": {
      "text/html": [
       "<div>\n",
       "<style scoped>\n",
       "    .dataframe tbody tr th:only-of-type {\n",
       "        vertical-align: middle;\n",
       "    }\n",
       "\n",
       "    .dataframe tbody tr th {\n",
       "        vertical-align: top;\n",
       "    }\n",
       "\n",
       "    .dataframe thead th {\n",
       "        text-align: right;\n",
       "    }\n",
       "</style>\n",
       "<table border=\"1\" class=\"dataframe\">\n",
       "  <thead>\n",
       "    <tr style=\"text-align: right;\">\n",
       "      <th></th>\n",
       "      <th>id</th>\n",
       "      <th>keywords</th>\n",
       "      <th>language</th>\n",
       "      <th>location_type</th>\n",
       "      <th>page_count</th>\n",
       "      <th>dish_count</th>\n",
       "    </tr>\n",
       "  </thead>\n",
       "  <tbody>\n",
       "    <tr>\n",
       "      <td>count</td>\n",
       "      <td>17545.000000</td>\n",
       "      <td>0.0</td>\n",
       "      <td>0.0</td>\n",
       "      <td>0.0</td>\n",
       "      <td>17545.000000</td>\n",
       "      <td>17545.000000</td>\n",
       "    </tr>\n",
       "    <tr>\n",
       "      <td>mean</td>\n",
       "      <td>25325.953377</td>\n",
       "      <td>NaN</td>\n",
       "      <td>NaN</td>\n",
       "      <td>NaN</td>\n",
       "      <td>3.484412</td>\n",
       "      <td>75.617213</td>\n",
       "    </tr>\n",
       "    <tr>\n",
       "      <td>std</td>\n",
       "      <td>6431.552203</td>\n",
       "      <td>NaN</td>\n",
       "      <td>NaN</td>\n",
       "      <td>NaN</td>\n",
       "      <td>3.295643</td>\n",
       "      <td>98.435862</td>\n",
       "    </tr>\n",
       "    <tr>\n",
       "      <td>min</td>\n",
       "      <td>12463.000000</td>\n",
       "      <td>NaN</td>\n",
       "      <td>NaN</td>\n",
       "      <td>NaN</td>\n",
       "      <td>1.000000</td>\n",
       "      <td>0.000000</td>\n",
       "    </tr>\n",
       "    <tr>\n",
       "      <td>25%</td>\n",
       "      <td>20742.000000</td>\n",
       "      <td>NaN</td>\n",
       "      <td>NaN</td>\n",
       "      <td>NaN</td>\n",
       "      <td>2.000000</td>\n",
       "      <td>20.000000</td>\n",
       "    </tr>\n",
       "    <tr>\n",
       "      <td>50%</td>\n",
       "      <td>26165.000000</td>\n",
       "      <td>NaN</td>\n",
       "      <td>NaN</td>\n",
       "      <td>NaN</td>\n",
       "      <td>2.000000</td>\n",
       "      <td>35.000000</td>\n",
       "    </tr>\n",
       "    <tr>\n",
       "      <td>75%</td>\n",
       "      <td>30707.000000</td>\n",
       "      <td>NaN</td>\n",
       "      <td>NaN</td>\n",
       "      <td>NaN</td>\n",
       "      <td>4.000000</td>\n",
       "      <td>93.000000</td>\n",
       "    </tr>\n",
       "    <tr>\n",
       "      <td>max</td>\n",
       "      <td>35526.000000</td>\n",
       "      <td>NaN</td>\n",
       "      <td>NaN</td>\n",
       "      <td>NaN</td>\n",
       "      <td>74.000000</td>\n",
       "      <td>4053.000000</td>\n",
       "    </tr>\n",
       "  </tbody>\n",
       "</table>\n",
       "</div>"
      ],
      "text/plain": [
       "                 id  keywords  language  location_type    page_count  \\\n",
       "count  17545.000000       0.0       0.0            0.0  17545.000000   \n",
       "mean   25325.953377       NaN       NaN            NaN      3.484412   \n",
       "std     6431.552203       NaN       NaN            NaN      3.295643   \n",
       "min    12463.000000       NaN       NaN            NaN      1.000000   \n",
       "25%    20742.000000       NaN       NaN            NaN      2.000000   \n",
       "50%    26165.000000       NaN       NaN            NaN      2.000000   \n",
       "75%    30707.000000       NaN       NaN            NaN      4.000000   \n",
       "max    35526.000000       NaN       NaN            NaN     74.000000   \n",
       "\n",
       "         dish_count  \n",
       "count  17545.000000  \n",
       "mean      75.617213  \n",
       "std       98.435862  \n",
       "min        0.000000  \n",
       "25%       20.000000  \n",
       "50%       35.000000  \n",
       "75%       93.000000  \n",
       "max     4053.000000  "
      ]
     },
     "execution_count": 57,
     "metadata": {},
     "output_type": "execute_result"
    }
   ],
   "source": [
    "menu.describe()"
   ]
  },
  {
   "cell_type": "code",
   "execution_count": 58,
   "metadata": {},
   "outputs": [
    {
     "data": {
      "text/html": [
       "<div>\n",
       "<style scoped>\n",
       "    .dataframe tbody tr th:only-of-type {\n",
       "        vertical-align: middle;\n",
       "    }\n",
       "\n",
       "    .dataframe tbody tr th {\n",
       "        vertical-align: top;\n",
       "    }\n",
       "\n",
       "    .dataframe thead th {\n",
       "        text-align: right;\n",
       "    }\n",
       "</style>\n",
       "<table border=\"1\" class=\"dataframe\">\n",
       "  <thead>\n",
       "    <tr style=\"text-align: right;\">\n",
       "      <th></th>\n",
       "      <th>id</th>\n",
       "      <th>name</th>\n",
       "      <th>sponsor</th>\n",
       "      <th>event</th>\n",
       "      <th>venue</th>\n",
       "      <th>place</th>\n",
       "      <th>physical_description</th>\n",
       "      <th>occasion</th>\n",
       "      <th>notes</th>\n",
       "      <th>call_number</th>\n",
       "      <th>keywords</th>\n",
       "      <th>language</th>\n",
       "      <th>date</th>\n",
       "      <th>location</th>\n",
       "      <th>location_type</th>\n",
       "      <th>currency</th>\n",
       "      <th>currency_symbol</th>\n",
       "      <th>status</th>\n",
       "      <th>page_count</th>\n",
       "      <th>dish_count</th>\n",
       "    </tr>\n",
       "  </thead>\n",
       "  <tbody>\n",
       "    <tr>\n",
       "      <td>0</td>\n",
       "      <td>12463</td>\n",
       "      <td>NaN</td>\n",
       "      <td>HOTEL EASTMAN</td>\n",
       "      <td>BREAKFAST</td>\n",
       "      <td>COMMERCIAL</td>\n",
       "      <td>HOT SPRINGS, AR</td>\n",
       "      <td>CARD; 4.75X7.5;</td>\n",
       "      <td>EASTER;</td>\n",
       "      <td>NaN</td>\n",
       "      <td>1900-2822</td>\n",
       "      <td>NaN</td>\n",
       "      <td>NaN</td>\n",
       "      <td>1900-04-15</td>\n",
       "      <td>Hotel Eastman</td>\n",
       "      <td>NaN</td>\n",
       "      <td>NaN</td>\n",
       "      <td>NaN</td>\n",
       "      <td>complete</td>\n",
       "      <td>2</td>\n",
       "      <td>67</td>\n",
       "    </tr>\n",
       "    <tr>\n",
       "      <td>1</td>\n",
       "      <td>12464</td>\n",
       "      <td>NaN</td>\n",
       "      <td>REPUBLICAN HOUSE</td>\n",
       "      <td>[DINNER]</td>\n",
       "      <td>COMMERCIAL</td>\n",
       "      <td>MILWAUKEE, [WI];</td>\n",
       "      <td>CARD; ILLUS; COL; 7.0X9.0;</td>\n",
       "      <td>EASTER;</td>\n",
       "      <td>WEDGEWOOD BLUE CARD; WHITE EMBOSSED GREEK KEY ...</td>\n",
       "      <td>1900-2825</td>\n",
       "      <td>NaN</td>\n",
       "      <td>NaN</td>\n",
       "      <td>1900-04-15</td>\n",
       "      <td>Republican House</td>\n",
       "      <td>NaN</td>\n",
       "      <td>NaN</td>\n",
       "      <td>NaN</td>\n",
       "      <td>under review</td>\n",
       "      <td>2</td>\n",
       "      <td>34</td>\n",
       "    </tr>\n",
       "    <tr>\n",
       "      <td>2</td>\n",
       "      <td>12465</td>\n",
       "      <td>NaN</td>\n",
       "      <td>NORDDEUTSCHER LLOYD BREMEN</td>\n",
       "      <td>FRUHSTUCK/BREAKFAST;</td>\n",
       "      <td>COMMERCIAL</td>\n",
       "      <td>DAMPFER KAISER WILHELM DER GROSSE;</td>\n",
       "      <td>CARD; ILLU; COL; 5.5X8.0;</td>\n",
       "      <td>NaN</td>\n",
       "      <td>MENU IN GERMAN AND ENGLISH; ILLUS, STEAMSHIP A...</td>\n",
       "      <td>1900-2827</td>\n",
       "      <td>NaN</td>\n",
       "      <td>NaN</td>\n",
       "      <td>1900-04-16</td>\n",
       "      <td>Norddeutscher Lloyd Bremen</td>\n",
       "      <td>NaN</td>\n",
       "      <td>NaN</td>\n",
       "      <td>NaN</td>\n",
       "      <td>complete</td>\n",
       "      <td>2</td>\n",
       "      <td>84</td>\n",
       "    </tr>\n",
       "    <tr>\n",
       "      <td>3</td>\n",
       "      <td>12466</td>\n",
       "      <td>NaN</td>\n",
       "      <td>NORDDEUTSCHER LLOYD BREMEN</td>\n",
       "      <td>LUNCH;</td>\n",
       "      <td>COMMERCIAL</td>\n",
       "      <td>DAMPFER KAISER WILHELM DER GROSSE;</td>\n",
       "      <td>CARD; ILLU; COL; 5.5X8.0;</td>\n",
       "      <td>NaN</td>\n",
       "      <td>MENU IN GERMAN AND ENGLISH; ILLUS, HARBOR SCEN...</td>\n",
       "      <td>1900-2828</td>\n",
       "      <td>NaN</td>\n",
       "      <td>NaN</td>\n",
       "      <td>1900-04-16</td>\n",
       "      <td>Norddeutscher Lloyd Bremen</td>\n",
       "      <td>NaN</td>\n",
       "      <td>NaN</td>\n",
       "      <td>NaN</td>\n",
       "      <td>complete</td>\n",
       "      <td>2</td>\n",
       "      <td>63</td>\n",
       "    </tr>\n",
       "    <tr>\n",
       "      <td>4</td>\n",
       "      <td>12467</td>\n",
       "      <td>NaN</td>\n",
       "      <td>NORDDEUTSCHER LLOYD BREMEN</td>\n",
       "      <td>DINNER;</td>\n",
       "      <td>COMMERCIAL</td>\n",
       "      <td>DAMPFER KAISER WILHELM DER GROSSE;</td>\n",
       "      <td>FOLDER; ILLU; COL; 5.5X7.5;</td>\n",
       "      <td>NaN</td>\n",
       "      <td>MENU IN GERMAN AND ENGLISH; ILLUS, HARBOR SCEN...</td>\n",
       "      <td>1900-2829</td>\n",
       "      <td>NaN</td>\n",
       "      <td>NaN</td>\n",
       "      <td>1900-04-16</td>\n",
       "      <td>Norddeutscher Lloyd Bremen</td>\n",
       "      <td>NaN</td>\n",
       "      <td>NaN</td>\n",
       "      <td>NaN</td>\n",
       "      <td>complete</td>\n",
       "      <td>4</td>\n",
       "      <td>33</td>\n",
       "    </tr>\n",
       "  </tbody>\n",
       "</table>\n",
       "</div>"
      ],
      "text/plain": [
       "      id name                     sponsor                 event       venue  \\\n",
       "0  12463  NaN               HOTEL EASTMAN             BREAKFAST  COMMERCIAL   \n",
       "1  12464  NaN            REPUBLICAN HOUSE              [DINNER]  COMMERCIAL   \n",
       "2  12465  NaN  NORDDEUTSCHER LLOYD BREMEN  FRUHSTUCK/BREAKFAST;  COMMERCIAL   \n",
       "3  12466  NaN  NORDDEUTSCHER LLOYD BREMEN                LUNCH;  COMMERCIAL   \n",
       "4  12467  NaN  NORDDEUTSCHER LLOYD BREMEN               DINNER;  COMMERCIAL   \n",
       "\n",
       "                                place         physical_description occasion  \\\n",
       "0                     HOT SPRINGS, AR              CARD; 4.75X7.5;  EASTER;   \n",
       "1                    MILWAUKEE, [WI];   CARD; ILLUS; COL; 7.0X9.0;  EASTER;   \n",
       "2  DAMPFER KAISER WILHELM DER GROSSE;    CARD; ILLU; COL; 5.5X8.0;      NaN   \n",
       "3  DAMPFER KAISER WILHELM DER GROSSE;    CARD; ILLU; COL; 5.5X8.0;      NaN   \n",
       "4  DAMPFER KAISER WILHELM DER GROSSE;  FOLDER; ILLU; COL; 5.5X7.5;      NaN   \n",
       "\n",
       "                                               notes call_number  keywords  \\\n",
       "0                                                NaN   1900-2822       NaN   \n",
       "1  WEDGEWOOD BLUE CARD; WHITE EMBOSSED GREEK KEY ...   1900-2825       NaN   \n",
       "2  MENU IN GERMAN AND ENGLISH; ILLUS, STEAMSHIP A...   1900-2827       NaN   \n",
       "3  MENU IN GERMAN AND ENGLISH; ILLUS, HARBOR SCEN...   1900-2828       NaN   \n",
       "4  MENU IN GERMAN AND ENGLISH; ILLUS, HARBOR SCEN...   1900-2829       NaN   \n",
       "\n",
       "   language        date                    location  location_type currency  \\\n",
       "0       NaN  1900-04-15               Hotel Eastman            NaN      NaN   \n",
       "1       NaN  1900-04-15            Republican House            NaN      NaN   \n",
       "2       NaN  1900-04-16  Norddeutscher Lloyd Bremen            NaN      NaN   \n",
       "3       NaN  1900-04-16  Norddeutscher Lloyd Bremen            NaN      NaN   \n",
       "4       NaN  1900-04-16  Norddeutscher Lloyd Bremen            NaN      NaN   \n",
       "\n",
       "  currency_symbol        status  page_count  dish_count  \n",
       "0             NaN      complete           2          67  \n",
       "1             NaN  under review           2          34  \n",
       "2             NaN      complete           2          84  \n",
       "3             NaN      complete           2          63  \n",
       "4             NaN      complete           4          33  "
      ]
     },
     "execution_count": 58,
     "metadata": {},
     "output_type": "execute_result"
    }
   ],
   "source": [
    "menu.head()"
   ]
  },
  {
   "cell_type": "code",
   "execution_count": 61,
   "metadata": {},
   "outputs": [
    {
     "name": "stdout",
     "output_type": "stream",
     "text": [
      "                                                   len\n",
      "                                            page_count\n",
      "name                                                  \n",
      "Waldorf Astoria                                    475\n",
      "Hotel Astor                                        143\n",
      "[Restaurant name and/or location not given]        113\n",
      "The Biltmore                                        96\n",
      "Healy's Forty-second Street restaurant              93\n",
      "...                                                ...\n",
      "Hotel St. Francis                                    1\n",
      "Hotel St. Regis                                      1\n",
      "Hotel Stewart                                        1\n",
      "Hotel Taft                                           1\n",
      "private residence of Mayor Jas. H. Preston           1\n",
      "\n",
      "[797 rows x 1 columns]\n"
     ]
    }
   ],
   "source": [
    "freq(menu,'name')"
   ]
  },
  {
   "cell_type": "code",
   "execution_count": 62,
   "metadata": {},
   "outputs": [
    {
     "name": "stdout",
     "output_type": "stream",
     "text": [
      "                                  len\n",
      "                           page_count\n",
      "sponsor                              \n",
      "Waldorf Astoria                   691\n",
      "NORDDEUTSCHER LLOYD BREMEN        476\n",
      "Hotel Astor                       327\n",
      "HAMBURG-AMERIKA LINIE             278\n",
      "NIPPON YUSEN KAISHA               215\n",
      "...                               ...\n",
      "Hotel Bevan                         1\n",
      "Hotel Bel-Air                       1\n",
      "Hotel Beau Site                     1\n",
      "Hotel Beau Rivage Luzern            1\n",
      "xtYE TWILIGHT CLUB                  1\n",
      "\n",
      "[6370 rows x 1 columns]\n"
     ]
    }
   ],
   "source": [
    "freq(menu,'sponsor')"
   ]
  },
  {
   "cell_type": "code",
   "execution_count": 63,
   "metadata": {},
   "outputs": [
    {
     "name": "stdout",
     "output_type": "stream",
     "text": [
      "                                                          len\n",
      "                                                   page_count\n",
      "event                                                        \n",
      "DINNER                                                   1827\n",
      "BREAKFAST                                                 830\n",
      "LUNCHEON                                                  532\n",
      "LUNCH                                                     520\n",
      "DAILY MENU                                                218\n",
      "...                                                       ...\n",
      "DINER DE LA LITERATURE FIN DE SIECLE                        1\n",
      "DINER D'ADIEU                                               1\n",
      "DIBNNER TO EDWARD M. GROUT                                  1\n",
      "DIAMOND JUBILEE LUNCHEON TO DELEGATES                       1\n",
      "DINNER TO MR. ALBERT FOSTER ON HIS RETURN FROM ...          1\n",
      "\n",
      "[1770 rows x 1 columns]\n"
     ]
    }
   ],
   "source": [
    "freq(menu,'event')"
   ]
  },
  {
   "cell_type": "code",
   "execution_count": 64,
   "metadata": {},
   "outputs": [
    {
     "name": "stdout",
     "output_type": "stream",
     "text": [
      "                                         len\n",
      "                                  page_count\n",
      "venue                                       \n",
      "COMMERCIAL                              4704\n",
      "SOC;                                     541\n",
      "RESTAURANT                               425\n",
      "PROF;                                    416\n",
      "COM                                      280\n",
      "...                                      ...\n",
      "OTHER (PRIVATE PARTY?)                     1\n",
      "OTHER (PRIVATE PARTY?);                    1\n",
      "OTHER (PRIVATE PATY)                       1\n",
      "OTHER (PRIVATELY HOSTED BANQUET);          1\n",
      "[SOC];                                     1\n",
      "\n",
      "[233 rows x 1 columns]\n"
     ]
    }
   ],
   "source": [
    "freq(menu, 'venue')"
   ]
  },
  {
   "cell_type": "code",
   "execution_count": 65,
   "metadata": {},
   "outputs": [
    {
     "name": "stdout",
     "output_type": "stream",
     "text": [
      "                                        len\n",
      "                                 page_count\n",
      "place                                      \n",
      "EN ROUTE                                293\n",
      "NEW YORK, NY                            198\n",
      "EN ROUTE ABOARD HONG KONG MARU          101\n",
      "?                                        84\n",
      "EN ROUTE ABOARD SS. KASUGA               79\n",
      "...                                     ...\n",
      "King's Arms Tavern                        1\n",
      "King's Inn                                1\n",
      "Klein Elsass                              1\n",
      "Kleines Jacob                             1\n",
      " 9 W 53rd St, New York, NY 10019          1\n",
      "\n",
      "[3714 rows x 1 columns]\n"
     ]
    }
   ],
   "source": [
    "freq(menu, 'place')"
   ]
  },
  {
   "cell_type": "code",
   "execution_count": 66,
   "metadata": {},
   "outputs": [
    {
     "name": "stdout",
     "output_type": "stream",
     "text": [
      "                                             len\n",
      "                                      page_count\n",
      "physical_description                            \n",
      "BROADSHEET; ILLUS; 6.5 X 7.75;               127\n",
      "33x18cm                                      116\n",
      "28x18cm folded; 28x36cm open                 109\n",
      "21.5x13.5cm                                   96\n",
      "21.5x14cm folded; 21.5x28cm open              85\n",
      "...                                          ...\n",
      "BOOKLET; PHOTOGRAPH ON COVER; 8 X 10;          1\n",
      "BOOKLET; O;;IS; COL; 9.5 X 9.75;               1\n",
      "BOOKLET; ILLUSTRATED; 6.75X9;                  1\n",
      "BOOKLET; ILLUS;RIBBON TRIM; 6.25 X 8;          1\n",
      "trifolder; 6.625 x 11.25 inches                1\n",
      "\n",
      "[6268 rows x 1 columns]\n"
     ]
    }
   ],
   "source": [
    "freq(menu, 'physical_description')"
   ]
  },
  {
   "cell_type": "code",
   "execution_count": 67,
   "metadata": {},
   "outputs": [
    {
     "name": "stdout",
     "output_type": "stream",
     "text": [
      "                                                len\n",
      "                                         page_count\n",
      "occasion                                           \n",
      "DAILY;                                          828\n",
      "COMPLIMENTARY/TESTIMONIAL                       569\n",
      "ANNIVERSARY;                                    557\n",
      "DAILY                                           232\n",
      "DAILY MENU;                                     225\n",
      "...                                             ...\n",
      "ANNUAL EVENT;                                     1\n",
      "OTHER (DAILY MENU ON BOARD SHIP);                 1\n",
      "OTHER (DAILY MENU FOR RESTAURANT CHAIN);          1\n",
      "OTHER (DAILY MENU FOR HOTEL);                     1\n",
      "\"CONTINTENTAL DINNER\"EN ROUTE;                    1\n",
      "\n",
      "[423 rows x 1 columns]\n"
     ]
    }
   ],
   "source": [
    "freq(menu, 'occasion')"
   ]
  },
  {
   "cell_type": "code",
   "execution_count": 68,
   "metadata": {},
   "outputs": [
    {
     "name": "stdout",
     "output_type": "stream",
     "text": [
      "                                                          len\n",
      "                                                   page_count\n",
      "notes                                                        \n",
      "Dieter Zander Collection.                                 210\n",
      "B&W PHOTOGRAPHS OF VARIOUS POINTS OF INTEREST I...        112\n",
      "luncheon                                                   88\n",
      "dinner                                                     88\n",
      "English is secondary language                              65\n",
      "...                                                       ...\n",
      "GERMAN & ENGLISH; SKETCH OF ROCKY SHORELINE, TR...          1\n",
      "GERMAN & ENGLISH; SHORELINE, ROCKS, WALL, STEAM...          1\n",
      "GERMAN & ENGLISH; SHIPBOARD SCENE, PASSENGERS C...          1\n",
      "GERMAN & ENGLISH; SEACOAST SCENE AT TOP OF MENU;            1\n",
      "wine list in Swedish; Arthur H. Rumpf Menu Coll...          1\n",
      "\n",
      "[6969 rows x 1 columns]\n"
     ]
    }
   ],
   "source": [
    "freq(menu, 'notes')"
   ]
  },
  {
   "cell_type": "code",
   "execution_count": 69,
   "metadata": {},
   "outputs": [
    {
     "ename": "KeyError",
     "evalue": "('len', 'page_count')",
     "output_type": "error",
     "traceback": [
      "\u001b[1;31m---------------------------------------------------------------------------\u001b[0m",
      "\u001b[1;31mKeyError\u001b[0m                                  Traceback (most recent call last)",
      "\u001b[1;32m<ipython-input-69-605c29708193>\u001b[0m in \u001b[0;36m<module>\u001b[1;34m\u001b[0m\n\u001b[1;32m----> 1\u001b[1;33m \u001b[0mfreq\u001b[0m\u001b[1;33m(\u001b[0m\u001b[0mmenu\u001b[0m\u001b[1;33m,\u001b[0m \u001b[1;34m'keywords'\u001b[0m\u001b[1;33m)\u001b[0m\u001b[1;33m\u001b[0m\u001b[1;33m\u001b[0m\u001b[0m\n\u001b[0m",
      "\u001b[1;32m<ipython-input-60-c07c96f10c1e>\u001b[0m in \u001b[0;36mfreq\u001b[1;34m(df, col)\u001b[0m\n\u001b[0;32m      1\u001b[0m \u001b[1;32mdef\u001b[0m \u001b[0mfreq\u001b[0m\u001b[1;33m(\u001b[0m\u001b[0mdf\u001b[0m\u001b[1;33m,\u001b[0m \u001b[0mcol\u001b[0m\u001b[1;33m)\u001b[0m\u001b[1;33m:\u001b[0m\u001b[1;33m\u001b[0m\u001b[1;33m\u001b[0m\u001b[0m\n\u001b[0;32m      2\u001b[0m     \u001b[0mx\u001b[0m \u001b[1;33m=\u001b[0m \u001b[0mdf\u001b[0m\u001b[1;33m.\u001b[0m\u001b[0mpivot_table\u001b[0m\u001b[1;33m(\u001b[0m\u001b[0mindex\u001b[0m\u001b[1;33m=\u001b[0m\u001b[0mcol\u001b[0m\u001b[1;33m,\u001b[0m \u001b[0mvalues\u001b[0m\u001b[1;33m=\u001b[0m\u001b[1;34m'page_count'\u001b[0m\u001b[1;33m,\u001b[0m \u001b[0maggfunc\u001b[0m\u001b[1;33m=\u001b[0m\u001b[1;33m[\u001b[0m\u001b[0mlen\u001b[0m\u001b[1;33m]\u001b[0m\u001b[1;33m)\u001b[0m\u001b[1;33m\u001b[0m\u001b[1;33m\u001b[0m\u001b[0m\n\u001b[1;32m----> 3\u001b[1;33m     \u001b[0mprint\u001b[0m\u001b[1;33m(\u001b[0m\u001b[0mx\u001b[0m\u001b[1;33m.\u001b[0m\u001b[0msort_values\u001b[0m\u001b[1;33m(\u001b[0m\u001b[0mby\u001b[0m\u001b[1;33m=\u001b[0m\u001b[1;33m(\u001b[0m\u001b[1;34m'len'\u001b[0m\u001b[1;33m,\u001b[0m \u001b[1;34m'page_count'\u001b[0m\u001b[1;33m)\u001b[0m\u001b[1;33m,\u001b[0m \u001b[0mascending\u001b[0m \u001b[1;33m=\u001b[0m \u001b[1;32mFalse\u001b[0m\u001b[1;33m)\u001b[0m\u001b[1;33m)\u001b[0m\u001b[1;33m\u001b[0m\u001b[1;33m\u001b[0m\u001b[0m\n\u001b[0m",
      "\u001b[1;32mD:\\Users\\Rick\\Anaconda3\\lib\\site-packages\\pandas\\core\\frame.py\u001b[0m in \u001b[0;36msort_values\u001b[1;34m(self, by, axis, ascending, inplace, kind, na_position)\u001b[0m\n\u001b[0;32m   4991\u001b[0m \u001b[1;33m\u001b[0m\u001b[0m\n\u001b[0;32m   4992\u001b[0m             \u001b[0mby\u001b[0m \u001b[1;33m=\u001b[0m \u001b[0mby\u001b[0m\u001b[1;33m[\u001b[0m\u001b[1;36m0\u001b[0m\u001b[1;33m]\u001b[0m\u001b[1;33m\u001b[0m\u001b[1;33m\u001b[0m\u001b[0m\n\u001b[1;32m-> 4993\u001b[1;33m             \u001b[0mk\u001b[0m \u001b[1;33m=\u001b[0m \u001b[0mself\u001b[0m\u001b[1;33m.\u001b[0m\u001b[0m_get_label_or_level_values\u001b[0m\u001b[1;33m(\u001b[0m\u001b[0mby\u001b[0m\u001b[1;33m,\u001b[0m \u001b[0maxis\u001b[0m\u001b[1;33m=\u001b[0m\u001b[0maxis\u001b[0m\u001b[1;33m)\u001b[0m\u001b[1;33m\u001b[0m\u001b[1;33m\u001b[0m\u001b[0m\n\u001b[0m\u001b[0;32m   4994\u001b[0m \u001b[1;33m\u001b[0m\u001b[0m\n\u001b[0;32m   4995\u001b[0m             \u001b[1;32mif\u001b[0m \u001b[0misinstance\u001b[0m\u001b[1;33m(\u001b[0m\u001b[0mascending\u001b[0m\u001b[1;33m,\u001b[0m \u001b[1;33m(\u001b[0m\u001b[0mtuple\u001b[0m\u001b[1;33m,\u001b[0m \u001b[0mlist\u001b[0m\u001b[1;33m)\u001b[0m\u001b[1;33m)\u001b[0m\u001b[1;33m:\u001b[0m\u001b[1;33m\u001b[0m\u001b[1;33m\u001b[0m\u001b[0m\n",
      "\u001b[1;32mD:\\Users\\Rick\\Anaconda3\\lib\\site-packages\\pandas\\core\\generic.py\u001b[0m in \u001b[0;36m_get_label_or_level_values\u001b[1;34m(self, key, axis)\u001b[0m\n\u001b[0;32m   1772\u001b[0m             \u001b[0mvalues\u001b[0m \u001b[1;33m=\u001b[0m \u001b[0mself\u001b[0m\u001b[1;33m.\u001b[0m\u001b[0maxes\u001b[0m\u001b[1;33m[\u001b[0m\u001b[0maxis\u001b[0m\u001b[1;33m]\u001b[0m\u001b[1;33m.\u001b[0m\u001b[0mget_level_values\u001b[0m\u001b[1;33m(\u001b[0m\u001b[0mkey\u001b[0m\u001b[1;33m)\u001b[0m\u001b[1;33m.\u001b[0m\u001b[0m_values\u001b[0m\u001b[1;33m\u001b[0m\u001b[1;33m\u001b[0m\u001b[0m\n\u001b[0;32m   1773\u001b[0m         \u001b[1;32melse\u001b[0m\u001b[1;33m:\u001b[0m\u001b[1;33m\u001b[0m\u001b[1;33m\u001b[0m\u001b[0m\n\u001b[1;32m-> 1774\u001b[1;33m             \u001b[1;32mraise\u001b[0m \u001b[0mKeyError\u001b[0m\u001b[1;33m(\u001b[0m\u001b[0mkey\u001b[0m\u001b[1;33m)\u001b[0m\u001b[1;33m\u001b[0m\u001b[1;33m\u001b[0m\u001b[0m\n\u001b[0m\u001b[0;32m   1775\u001b[0m \u001b[1;33m\u001b[0m\u001b[0m\n\u001b[0;32m   1776\u001b[0m         \u001b[1;31m# Check for duplicates\u001b[0m\u001b[1;33m\u001b[0m\u001b[1;33m\u001b[0m\u001b[1;33m\u001b[0m\u001b[0m\n",
      "\u001b[1;31mKeyError\u001b[0m: ('len', 'page_count')"
     ]
    }
   ],
   "source": [
    "freq(menu, 'keywords')"
   ]
  },
  {
   "cell_type": "code",
   "execution_count": 70,
   "metadata": {},
   "outputs": [
    {
     "ename": "KeyError",
     "evalue": "('len', 'page_count')",
     "output_type": "error",
     "traceback": [
      "\u001b[1;31m---------------------------------------------------------------------------\u001b[0m",
      "\u001b[1;31mKeyError\u001b[0m                                  Traceback (most recent call last)",
      "\u001b[1;32m<ipython-input-70-9f5dfb55b8f6>\u001b[0m in \u001b[0;36m<module>\u001b[1;34m\u001b[0m\n\u001b[1;32m----> 1\u001b[1;33m \u001b[0mfreq\u001b[0m\u001b[1;33m(\u001b[0m\u001b[0mmenu\u001b[0m\u001b[1;33m,\u001b[0m \u001b[1;34m'language'\u001b[0m\u001b[1;33m)\u001b[0m\u001b[1;33m\u001b[0m\u001b[1;33m\u001b[0m\u001b[0m\n\u001b[0m",
      "\u001b[1;32m<ipython-input-60-c07c96f10c1e>\u001b[0m in \u001b[0;36mfreq\u001b[1;34m(df, col)\u001b[0m\n\u001b[0;32m      1\u001b[0m \u001b[1;32mdef\u001b[0m \u001b[0mfreq\u001b[0m\u001b[1;33m(\u001b[0m\u001b[0mdf\u001b[0m\u001b[1;33m,\u001b[0m \u001b[0mcol\u001b[0m\u001b[1;33m)\u001b[0m\u001b[1;33m:\u001b[0m\u001b[1;33m\u001b[0m\u001b[1;33m\u001b[0m\u001b[0m\n\u001b[0;32m      2\u001b[0m     \u001b[0mx\u001b[0m \u001b[1;33m=\u001b[0m \u001b[0mdf\u001b[0m\u001b[1;33m.\u001b[0m\u001b[0mpivot_table\u001b[0m\u001b[1;33m(\u001b[0m\u001b[0mindex\u001b[0m\u001b[1;33m=\u001b[0m\u001b[0mcol\u001b[0m\u001b[1;33m,\u001b[0m \u001b[0mvalues\u001b[0m\u001b[1;33m=\u001b[0m\u001b[1;34m'page_count'\u001b[0m\u001b[1;33m,\u001b[0m \u001b[0maggfunc\u001b[0m\u001b[1;33m=\u001b[0m\u001b[1;33m[\u001b[0m\u001b[0mlen\u001b[0m\u001b[1;33m]\u001b[0m\u001b[1;33m)\u001b[0m\u001b[1;33m\u001b[0m\u001b[1;33m\u001b[0m\u001b[0m\n\u001b[1;32m----> 3\u001b[1;33m     \u001b[0mprint\u001b[0m\u001b[1;33m(\u001b[0m\u001b[0mx\u001b[0m\u001b[1;33m.\u001b[0m\u001b[0msort_values\u001b[0m\u001b[1;33m(\u001b[0m\u001b[0mby\u001b[0m\u001b[1;33m=\u001b[0m\u001b[1;33m(\u001b[0m\u001b[1;34m'len'\u001b[0m\u001b[1;33m,\u001b[0m \u001b[1;34m'page_count'\u001b[0m\u001b[1;33m)\u001b[0m\u001b[1;33m,\u001b[0m \u001b[0mascending\u001b[0m \u001b[1;33m=\u001b[0m \u001b[1;32mFalse\u001b[0m\u001b[1;33m)\u001b[0m\u001b[1;33m)\u001b[0m\u001b[1;33m\u001b[0m\u001b[1;33m\u001b[0m\u001b[0m\n\u001b[0m",
      "\u001b[1;32mD:\\Users\\Rick\\Anaconda3\\lib\\site-packages\\pandas\\core\\frame.py\u001b[0m in \u001b[0;36msort_values\u001b[1;34m(self, by, axis, ascending, inplace, kind, na_position)\u001b[0m\n\u001b[0;32m   4991\u001b[0m \u001b[1;33m\u001b[0m\u001b[0m\n\u001b[0;32m   4992\u001b[0m             \u001b[0mby\u001b[0m \u001b[1;33m=\u001b[0m \u001b[0mby\u001b[0m\u001b[1;33m[\u001b[0m\u001b[1;36m0\u001b[0m\u001b[1;33m]\u001b[0m\u001b[1;33m\u001b[0m\u001b[1;33m\u001b[0m\u001b[0m\n\u001b[1;32m-> 4993\u001b[1;33m             \u001b[0mk\u001b[0m \u001b[1;33m=\u001b[0m \u001b[0mself\u001b[0m\u001b[1;33m.\u001b[0m\u001b[0m_get_label_or_level_values\u001b[0m\u001b[1;33m(\u001b[0m\u001b[0mby\u001b[0m\u001b[1;33m,\u001b[0m \u001b[0maxis\u001b[0m\u001b[1;33m=\u001b[0m\u001b[0maxis\u001b[0m\u001b[1;33m)\u001b[0m\u001b[1;33m\u001b[0m\u001b[1;33m\u001b[0m\u001b[0m\n\u001b[0m\u001b[0;32m   4994\u001b[0m \u001b[1;33m\u001b[0m\u001b[0m\n\u001b[0;32m   4995\u001b[0m             \u001b[1;32mif\u001b[0m \u001b[0misinstance\u001b[0m\u001b[1;33m(\u001b[0m\u001b[0mascending\u001b[0m\u001b[1;33m,\u001b[0m \u001b[1;33m(\u001b[0m\u001b[0mtuple\u001b[0m\u001b[1;33m,\u001b[0m \u001b[0mlist\u001b[0m\u001b[1;33m)\u001b[0m\u001b[1;33m)\u001b[0m\u001b[1;33m:\u001b[0m\u001b[1;33m\u001b[0m\u001b[1;33m\u001b[0m\u001b[0m\n",
      "\u001b[1;32mD:\\Users\\Rick\\Anaconda3\\lib\\site-packages\\pandas\\core\\generic.py\u001b[0m in \u001b[0;36m_get_label_or_level_values\u001b[1;34m(self, key, axis)\u001b[0m\n\u001b[0;32m   1772\u001b[0m             \u001b[0mvalues\u001b[0m \u001b[1;33m=\u001b[0m \u001b[0mself\u001b[0m\u001b[1;33m.\u001b[0m\u001b[0maxes\u001b[0m\u001b[1;33m[\u001b[0m\u001b[0maxis\u001b[0m\u001b[1;33m]\u001b[0m\u001b[1;33m.\u001b[0m\u001b[0mget_level_values\u001b[0m\u001b[1;33m(\u001b[0m\u001b[0mkey\u001b[0m\u001b[1;33m)\u001b[0m\u001b[1;33m.\u001b[0m\u001b[0m_values\u001b[0m\u001b[1;33m\u001b[0m\u001b[1;33m\u001b[0m\u001b[0m\n\u001b[0;32m   1773\u001b[0m         \u001b[1;32melse\u001b[0m\u001b[1;33m:\u001b[0m\u001b[1;33m\u001b[0m\u001b[1;33m\u001b[0m\u001b[0m\n\u001b[1;32m-> 1774\u001b[1;33m             \u001b[1;32mraise\u001b[0m \u001b[0mKeyError\u001b[0m\u001b[1;33m(\u001b[0m\u001b[0mkey\u001b[0m\u001b[1;33m)\u001b[0m\u001b[1;33m\u001b[0m\u001b[1;33m\u001b[0m\u001b[0m\n\u001b[0m\u001b[0;32m   1775\u001b[0m \u001b[1;33m\u001b[0m\u001b[0m\n\u001b[0;32m   1776\u001b[0m         \u001b[1;31m# Check for duplicates\u001b[0m\u001b[1;33m\u001b[0m\u001b[1;33m\u001b[0m\u001b[1;33m\u001b[0m\u001b[0m\n",
      "\u001b[1;31mKeyError\u001b[0m: ('len', 'page_count')"
     ]
    }
   ],
   "source": [
    "freq(menu, 'language')"
   ]
  },
  {
   "cell_type": "code",
   "execution_count": 71,
   "metadata": {},
   "outputs": [
    {
     "name": "stdout",
     "output_type": "stream",
     "text": [
      "                                                  len\n",
      "                                           page_count\n",
      "location                                             \n",
      "Waldorf Astoria                                   703\n",
      "Norddeutscher Lloyd Bremen                        687\n",
      "Hamburg Amerika Linie                             340\n",
      "Hotel Astor                                       327\n",
      "Nippon Yusen Kaisha                               266\n",
      "...                                               ...\n",
      "Hotel Sheraton Boston                               1\n",
      "Hotel Sheraton Astor; Belvedere Room                1\n",
      "Hotel Shattuck                                      1\n",
      "Hotel Severin/Hotel Miami                           1\n",
      "private residence of Mayor Jas. H. Preston          1\n",
      "\n",
      "[6283 rows x 1 columns]\n"
     ]
    }
   ],
   "source": [
    "freq(menu, 'location')"
   ]
  },
  {
   "cell_type": "code",
   "execution_count": 72,
   "metadata": {},
   "outputs": [
    {
     "name": "stdout",
     "output_type": "stream",
     "text": [
      "                                  len\n",
      "                           page_count\n",
      "currency                             \n",
      "Dollars                          5549\n",
      "Deutsche Marks                    293\n",
      "Francs                            162\n",
      "Canadian Dollars                   98\n",
      "Swiss Francs                       47\n",
      "Shillings                          40\n",
      "Swedish kronor (SEK/kr)            39\n",
      "Italian Lire                       28\n",
      "Cents                              24\n",
      "UK Pounds                          22\n",
      "Belgian Francs                     20\n",
      "Mexican pesos                      19\n",
      "Dutch Guilders                     17\n",
      "Austrian Schillings                15\n",
      "Danish kroner                      14\n",
      "Yen                                 9\n",
      "Euros                               7\n",
      "Pesetas                             7\n",
      "Escudos                             5\n",
      "Austro-Hungarian Kronen             5\n",
      "Drachmas                            4\n",
      "Hungarian forint                    4\n",
      "Icelandic Krónur                    3\n",
      "Norwegian kroner                    3\n",
      "Israeli lirot (1948-1980)           3\n",
      "Quetzales                           2\n",
      "Argentine peso                      2\n",
      "New Taiwan Dollar                   1\n",
      "Moroccan Dirham                     1\n",
      "Pence                               1\n",
      "Monégasque francs                   1\n",
      "Qatari riyal                        1\n",
      "Lats                                1\n",
      "Australian Dollars                  1\n",
      "Sol                                 1\n",
      "Straits dollar (1904-1939)          1\n",
      "Finnish markka                      1\n",
      "Cuban pesos                         1\n",
      "Brazilian Cruzeiros                 1\n",
      "Uruguayan pesos                     1\n",
      "Bermudian dollars                   1\n",
      "Złoty                               1\n"
     ]
    }
   ],
   "source": [
    "freq(menu, 'currency')"
   ]
  },
  {
   "cell_type": "code",
   "execution_count": 73,
   "metadata": {},
   "outputs": [
    {
     "name": "stdout",
     "output_type": "stream",
     "text": [
      "                    len\n",
      "             page_count\n",
      "status                 \n",
      "complete          17371\n",
      "under review        174\n"
     ]
    }
   ],
   "source": [
    "freq(menu, 'status')"
   ]
  },
  {
   "cell_type": "code",
   "execution_count": null,
   "metadata": {},
   "outputs": [],
   "source": []
  }
 ],
 "metadata": {
  "kernelspec": {
   "display_name": "Python 3",
   "language": "python",
   "name": "python3"
  },
  "language_info": {
   "codemirror_mode": {
    "name": "ipython",
    "version": 3
   },
   "file_extension": ".py",
   "mimetype": "text/x-python",
   "name": "python",
   "nbconvert_exporter": "python",
   "pygments_lexer": "ipython3",
   "version": "3.7.4"
  }
 },
 "nbformat": 4,
 "nbformat_minor": 2
}
