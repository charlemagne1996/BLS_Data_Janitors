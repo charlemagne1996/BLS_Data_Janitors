{
 "cells": [
  {
   "cell_type": "markdown",
   "metadata": {},
   "source": [
    "# MenuPage\n",
    "This file appears to be mostly links to external images (which might be interesting to incorporate into our data cleaning)\n"
   ]
  },
  {
   "cell_type": "code",
   "execution_count": 1,
   "metadata": {},
   "outputs": [],
   "source": [
    "import pandas as pd"
   ]
  },
  {
   "cell_type": "code",
   "execution_count": 5,
   "metadata": {},
   "outputs": [],
   "source": [
    "menupage = pd.read_csv(\"../raw_data/MenuPage.csv.gz\", compression='gzip')"
   ]
  },
  {
   "cell_type": "code",
   "execution_count": 15,
   "metadata": {},
   "outputs": [],
   "source": [
    "def freq(df, col):\n",
    "    x = df.pivot_table(index=col, values='page_number', aggfunc=[len])\n",
    "    print(x.sort_values(by=('len', 'page_number'), ascending = False))"
   ]
  },
  {
   "cell_type": "code",
   "execution_count": 7,
   "metadata": {},
   "outputs": [
    {
     "data": {
      "text/html": [
       "<div>\n",
       "<style scoped>\n",
       "    .dataframe tbody tr th:only-of-type {\n",
       "        vertical-align: middle;\n",
       "    }\n",
       "\n",
       "    .dataframe tbody tr th {\n",
       "        vertical-align: top;\n",
       "    }\n",
       "\n",
       "    .dataframe thead th {\n",
       "        text-align: right;\n",
       "    }\n",
       "</style>\n",
       "<table border=\"1\" class=\"dataframe\">\n",
       "  <thead>\n",
       "    <tr style=\"text-align: right;\">\n",
       "      <th></th>\n",
       "      <th>id</th>\n",
       "      <th>menu_id</th>\n",
       "      <th>page_number</th>\n",
       "      <th>full_height</th>\n",
       "      <th>full_width</th>\n",
       "    </tr>\n",
       "  </thead>\n",
       "  <tbody>\n",
       "    <tr>\n",
       "      <td>count</td>\n",
       "      <td>66937.000000</td>\n",
       "      <td>66937.000000</td>\n",
       "      <td>65735.000000</td>\n",
       "      <td>66608.000000</td>\n",
       "      <td>66608.000000</td>\n",
       "    </tr>\n",
       "    <tr>\n",
       "      <td>mean</td>\n",
       "      <td>42719.760596</td>\n",
       "      <td>25653.580904</td>\n",
       "      <td>3.759169</td>\n",
       "      <td>3859.102856</td>\n",
       "      <td>2778.588398</td>\n",
       "    </tr>\n",
       "    <tr>\n",
       "      <td>std</td>\n",
       "      <td>21273.997831</td>\n",
       "      <td>6158.827683</td>\n",
       "      <td>4.909050</td>\n",
       "      <td>1156.010307</td>\n",
       "      <td>970.287300</td>\n",
       "    </tr>\n",
       "    <tr>\n",
       "      <td>min</td>\n",
       "      <td>119.000000</td>\n",
       "      <td>12460.000000</td>\n",
       "      <td>1.000000</td>\n",
       "      <td>616.000000</td>\n",
       "      <td>558.000000</td>\n",
       "    </tr>\n",
       "    <tr>\n",
       "      <td>25%</td>\n",
       "      <td>27108.000000</td>\n",
       "      <td>21743.000000</td>\n",
       "      <td>1.000000</td>\n",
       "      <td>2988.000000</td>\n",
       "      <td>2120.000000</td>\n",
       "    </tr>\n",
       "    <tr>\n",
       "      <td>50%</td>\n",
       "      <td>43894.000000</td>\n",
       "      <td>26202.000000</td>\n",
       "      <td>2.000000</td>\n",
       "      <td>3630.000000</td>\n",
       "      <td>2527.000000</td>\n",
       "    </tr>\n",
       "    <tr>\n",
       "      <td>75%</td>\n",
       "      <td>60696.000000</td>\n",
       "      <td>30531.000000</td>\n",
       "      <td>4.000000</td>\n",
       "      <td>4617.250000</td>\n",
       "      <td>3295.250000</td>\n",
       "    </tr>\n",
       "    <tr>\n",
       "      <td>max</td>\n",
       "      <td>77431.000000</td>\n",
       "      <td>35526.000000</td>\n",
       "      <td>74.000000</td>\n",
       "      <td>12044.000000</td>\n",
       "      <td>9175.000000</td>\n",
       "    </tr>\n",
       "  </tbody>\n",
       "</table>\n",
       "</div>"
      ],
      "text/plain": [
       "                 id       menu_id   page_number   full_height    full_width\n",
       "count  66937.000000  66937.000000  65735.000000  66608.000000  66608.000000\n",
       "mean   42719.760596  25653.580904      3.759169   3859.102856   2778.588398\n",
       "std    21273.997831   6158.827683      4.909050   1156.010307    970.287300\n",
       "min      119.000000  12460.000000      1.000000    616.000000    558.000000\n",
       "25%    27108.000000  21743.000000      1.000000   2988.000000   2120.000000\n",
       "50%    43894.000000  26202.000000      2.000000   3630.000000   2527.000000\n",
       "75%    60696.000000  30531.000000      4.000000   4617.250000   3295.250000\n",
       "max    77431.000000  35526.000000     74.000000  12044.000000   9175.000000"
      ]
     },
     "execution_count": 7,
     "metadata": {},
     "output_type": "execute_result"
    }
   ],
   "source": [
    "menupage.describe()"
   ]
  },
  {
   "cell_type": "code",
   "execution_count": 16,
   "metadata": {},
   "outputs": [
    {
     "data": {
      "text/html": [
       "<div>\n",
       "<style scoped>\n",
       "    .dataframe tbody tr th:only-of-type {\n",
       "        vertical-align: middle;\n",
       "    }\n",
       "\n",
       "    .dataframe tbody tr th {\n",
       "        vertical-align: top;\n",
       "    }\n",
       "\n",
       "    .dataframe thead th {\n",
       "        text-align: right;\n",
       "    }\n",
       "</style>\n",
       "<table border=\"1\" class=\"dataframe\">\n",
       "  <thead>\n",
       "    <tr style=\"text-align: right;\">\n",
       "      <th></th>\n",
       "      <th>id</th>\n",
       "      <th>menu_id</th>\n",
       "      <th>page_number</th>\n",
       "      <th>image_id</th>\n",
       "      <th>full_height</th>\n",
       "      <th>full_width</th>\n",
       "      <th>uuid</th>\n",
       "    </tr>\n",
       "  </thead>\n",
       "  <tbody>\n",
       "    <tr>\n",
       "      <td>0</td>\n",
       "      <td>119</td>\n",
       "      <td>12460</td>\n",
       "      <td>1.0</td>\n",
       "      <td>1603595</td>\n",
       "      <td>7230.0</td>\n",
       "      <td>5428.0</td>\n",
       "      <td>510d47e4-2955-a3d9-e040-e00a18064a99</td>\n",
       "    </tr>\n",
       "    <tr>\n",
       "      <td>1</td>\n",
       "      <td>120</td>\n",
       "      <td>12460</td>\n",
       "      <td>2.0</td>\n",
       "      <td>1603596</td>\n",
       "      <td>5428.0</td>\n",
       "      <td>7230.0</td>\n",
       "      <td>510d47e4-2956-a3d9-e040-e00a18064a99</td>\n",
       "    </tr>\n",
       "    <tr>\n",
       "      <td>2</td>\n",
       "      <td>121</td>\n",
       "      <td>12460</td>\n",
       "      <td>3.0</td>\n",
       "      <td>1603597</td>\n",
       "      <td>7230.0</td>\n",
       "      <td>5428.0</td>\n",
       "      <td>510d47e4-2957-a3d9-e040-e00a18064a99</td>\n",
       "    </tr>\n",
       "    <tr>\n",
       "      <td>3</td>\n",
       "      <td>122</td>\n",
       "      <td>12460</td>\n",
       "      <td>4.0</td>\n",
       "      <td>1603598</td>\n",
       "      <td>7230.0</td>\n",
       "      <td>5428.0</td>\n",
       "      <td>510d47e4-2958-a3d9-e040-e00a18064a99</td>\n",
       "    </tr>\n",
       "    <tr>\n",
       "      <td>4</td>\n",
       "      <td>123</td>\n",
       "      <td>12461</td>\n",
       "      <td>1.0</td>\n",
       "      <td>1603591</td>\n",
       "      <td>7230.0</td>\n",
       "      <td>5428.0</td>\n",
       "      <td>510d47e4-2959-a3d9-e040-e00a18064a99</td>\n",
       "    </tr>\n",
       "  </tbody>\n",
       "</table>\n",
       "</div>"
      ],
      "text/plain": [
       "    id  menu_id  page_number image_id  full_height  full_width  \\\n",
       "0  119    12460          1.0  1603595       7230.0      5428.0   \n",
       "1  120    12460          2.0  1603596       5428.0      7230.0   \n",
       "2  121    12460          3.0  1603597       7230.0      5428.0   \n",
       "3  122    12460          4.0  1603598       7230.0      5428.0   \n",
       "4  123    12461          1.0  1603591       7230.0      5428.0   \n",
       "\n",
       "                                   uuid  \n",
       "0  510d47e4-2955-a3d9-e040-e00a18064a99  \n",
       "1  510d47e4-2956-a3d9-e040-e00a18064a99  \n",
       "2  510d47e4-2957-a3d9-e040-e00a18064a99  \n",
       "3  510d47e4-2958-a3d9-e040-e00a18064a99  \n",
       "4  510d47e4-2959-a3d9-e040-e00a18064a99  "
      ]
     },
     "execution_count": 16,
     "metadata": {},
     "output_type": "execute_result"
    }
   ],
   "source": [
    "menupage.head()"
   ]
  },
  {
   "cell_type": "code",
   "execution_count": 18,
   "metadata": {},
   "outputs": [
    {
     "name": "stdout",
     "output_type": "stream",
     "text": [
      "              len\n",
      "      page_number\n",
      "id               \n",
      "119           1.0\n",
      "55109         1.0\n",
      "55111         1.0\n",
      "55112         1.0\n",
      "55113         1.0\n",
      "...           ...\n",
      "32741         1.0\n",
      "32742         1.0\n",
      "32743         1.0\n",
      "32744         1.0\n",
      "77431         1.0\n",
      "\n",
      "[66937 rows x 1 columns]\n"
     ]
    }
   ],
   "source": [
    "freq(menupage,'id')"
   ]
  },
  {
   "cell_type": "code",
   "execution_count": 19,
   "metadata": {},
   "outputs": [
    {
     "name": "stdout",
     "output_type": "stream",
     "text": [
      "                len\n",
      "        page_number\n",
      "menu_id            \n",
      "35170          74.0\n",
      "35003          64.0\n",
      "31054          62.0\n",
      "29313          57.0\n",
      "31230          56.0\n",
      "...             ...\n",
      "34111           1.0\n",
      "31361           1.0\n",
      "31362           1.0\n",
      "31363           1.0\n",
      "31053           1.0\n",
      "\n",
      "[19816 rows x 1 columns]\n"
     ]
    }
   ],
   "source": [
    "freq(menupage,'menu_id')"
   ]
  },
  {
   "cell_type": "code",
   "execution_count": 21,
   "metadata": {},
   "outputs": [
    {
     "name": "stdout",
     "output_type": "stream",
     "text": [
      "                       len\n",
      "               page_number\n",
      "image_id                  \n",
      "4000011684             5.0\n",
      "467168                 5.0\n",
      "4000009594             5.0\n",
      "4000009466             5.0\n",
      "476268                 5.0\n",
      "...                    ...\n",
      "4000004822             1.0\n",
      "4000004823             1.0\n",
      "4000004824             1.0\n",
      "4000004825             1.0\n",
      "psnypl_rbk_988         1.0\n",
      "\n",
      "[63244 rows x 1 columns]\n"
     ]
    }
   ],
   "source": [
    "freq(menupage,'image_id')"
   ]
  },
  {
   "cell_type": "code",
   "execution_count": 22,
   "metadata": {},
   "outputs": [
    {
     "name": "stdout",
     "output_type": "stream",
     "text": [
      "                    len\n",
      "            page_number\n",
      "full_height            \n",
      "1500.0            333.0\n",
      "2910.0            123.0\n",
      "7230.0            111.0\n",
      "2897.0            106.0\n",
      "2906.0             93.0\n",
      "...                 ...\n",
      "5960.0              1.0\n",
      "5962.0              1.0\n",
      "5964.0              1.0\n",
      "5967.0              1.0\n",
      "12044.0             1.0\n",
      "\n",
      "[5612 rows x 1 columns]\n"
     ]
    }
   ],
   "source": [
    "freq(menupage, 'full_height')"
   ]
  },
  {
   "cell_type": "code",
   "execution_count": 23,
   "metadata": {},
   "outputs": [
    {
     "name": "stdout",
     "output_type": "stream",
     "text": [
      "                   len\n",
      "           page_number\n",
      "full_width            \n",
      "2282.0           151.0\n",
      "5428.0           147.0\n",
      "2295.0           118.0\n",
      "2299.0           114.0\n",
      "2291.0           109.0\n",
      "...                ...\n",
      "5321.0             1.0\n",
      "5319.0             1.0\n",
      "5317.0             1.0\n",
      "5315.0             1.0\n",
      "9175.0             1.0\n",
      "\n",
      "[5041 rows x 1 columns]\n"
     ]
    }
   ],
   "source": [
    "freq(menupage, 'full_width')"
   ]
  },
  {
   "cell_type": "code",
   "execution_count": null,
   "metadata": {},
   "outputs": [],
   "source": []
  }
 ],
 "metadata": {
  "kernelspec": {
   "display_name": "Python 3",
   "language": "python",
   "name": "python3"
  },
  "language_info": {
   "codemirror_mode": {
    "name": "ipython",
    "version": 3
   },
   "file_extension": ".py",
   "mimetype": "text/x-python",
   "name": "python",
   "nbconvert_exporter": "python",
   "pygments_lexer": "ipython3",
   "version": "3.7.4"
  }
 },
 "nbformat": 4,
 "nbformat_minor": 2
}
